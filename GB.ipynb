{
 "cells": [
  {
   "cell_type": "code",
   "execution_count": 31,
   "metadata": {},
   "outputs": [],
   "source": [
    "import numpy as np"
   ]
  },
  {
   "cell_type": "code",
   "execution_count": 32,
   "metadata": {},
   "outputs": [],
   "source": [
    "class GradientBoosting:\n",
    "    def __init__(self, model, l_r=0.1, depth=10):\n",
    "        self.model_type = model\n",
    "        self.n = 1\n",
    "        self.m = 1\n",
    "        self.predicted = None\n",
    "        self.models = {}\n",
    "        self.y_mean = 0\n",
    "        self.l_r = l_r\n",
    "        self.depth = depth\n",
    "    \n",
    "    def fit(self, X, y):\n",
    "        self.l_r = self.l_r\n",
    "        self.m, self.n = X.shape\n",
    "        self.predicted = np.zeros(self.m)\n",
    "        self.y_mean = y.mean()\n",
    "        self.predicted += self.y_mean\n",
    "        for iter in range(self.depth):\n",
    "            self.models[iter] = self.model_type(max_depth=3)\n",
    "            r = y - self.predicted\n",
    "            self.models[iter].fit(X, r)\n",
    "            h = self.models[iter].predict(X)\n",
    "            self.predicted += self.l_r * h\n",
    "    \n",
    "    def predict(self, X):\n",
    "        m = X.shape[0]\n",
    "        predict = np.zeros(m)\n",
    "        predict += self.y_mean\n",
    "        for iter in self.models.keys():\n",
    "            h = self.models[iter].predict(X)\n",
    "            predict += self.l_r * h\n",
    "        return predict\n"
   ]
  },
  {
   "cell_type": "code",
   "execution_count": 33,
   "metadata": {},
   "outputs": [],
   "source": [
    "from sklearn.tree import DecisionTreeRegressor"
   ]
  },
  {
   "cell_type": "code",
   "execution_count": 38,
   "metadata": {},
   "outputs": [
    {
     "name": "stdout",
     "output_type": "stream",
     "text": [
      "[1.00146484 2.00048828 2.99951172 3.99853516]\n"
     ]
    }
   ],
   "source": [
    "# Пример данных\n",
    "X = np.array([[1, 2], [2, 3], [3, 4], [4, 5]])\n",
    "y = np.array([1, 2, 3, 4])\n",
    "\n",
    "# Создание и обучение модели\n",
    "gb = GradientBoosting(model=DecisionTreeRegressor, l_r=0.5, depth=10)\n",
    "gb.fit(X, y)\n",
    "\n",
    "# Предсказание\n",
    "predictions = gb.predict(X)\n",
    "print(predictions)"
   ]
  }
 ],
 "metadata": {
  "kernelspec": {
   "display_name": "Python 3",
   "language": "python",
   "name": "python3"
  },
  "language_info": {
   "codemirror_mode": {
    "name": "ipython",
    "version": 3
   },
   "file_extension": ".py",
   "mimetype": "text/x-python",
   "name": "python",
   "nbconvert_exporter": "python",
   "pygments_lexer": "ipython3",
   "version": "3.12.4"
  }
 },
 "nbformat": 4,
 "nbformat_minor": 2
}
