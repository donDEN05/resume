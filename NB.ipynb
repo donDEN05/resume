{
 "cells": [
  {
   "cell_type": "code",
   "execution_count": 35,
   "metadata": {},
   "outputs": [],
   "source": [
    "import numpy as np"
   ]
  },
  {
   "cell_type": "code",
   "execution_count": 38,
   "metadata": {},
   "outputs": [],
   "source": [
    "class NaiveBayes:\n",
    "    def __init__(self):\n",
    "        self.ch_p = {}\n",
    "        self.ch_n = {}\n",
    "        self.pos = 0\n",
    "        self.neg = 0\n",
    "        self.m = 1\n",
    "        self.n = 1\n",
    "    \n",
    "    def fit(self, X, y):\n",
    "        self.m, self.n = X.shape\n",
    "        self.pos = y.sum() / self.m\n",
    "        self.neg = 1 - self.pos\n",
    "        for i in range(self.n):\n",
    "            self.ch_p[i] = dict.fromkeys(np.unique(X[:, i]), 0)\n",
    "            self.ch_n[i] = dict.fromkeys(np.unique(X[:, i]), 0)\n",
    "            for m in range(self.m):\n",
    "                x_i = X[m][i]\n",
    "                if y[m] == 1:\n",
    "                    self.ch_p[i][x_i] += 1\n",
    "                else:\n",
    "                    self.ch_n[i][x_i] += 1\n",
    "            for j in self.ch_p[i]:\n",
    "                self.ch_p[i][j] /= self.m\n",
    "                self.ch_n[i][j] /= self.m\n",
    "    \n",
    "    def predict(self, X):\n",
    "        predict = []\n",
    "        for m in range(X.shape[0]):\n",
    "            ch_p = self.pos\n",
    "            ch_n = self.neg\n",
    "            for i in range(self.n):\n",
    "                ch_p *= self.ch_p[i][X[m][i]]\n",
    "                ch_n *= self.ch_n[i][X[m][i]]\n",
    "            if ch_p >= ch_n:\n",
    "                predict.append(1)\n",
    "            else:\n",
    "                predict.append(0)\n",
    "        return np.array(predict)"
   ]
  },
  {
   "cell_type": "code",
   "execution_count": 39,
   "metadata": {},
   "outputs": [
    {
     "name": "stdout",
     "output_type": "stream",
     "text": [
      "[1 0]\n"
     ]
    }
   ],
   "source": [
    "# Пример данных\n",
    "X = np.array([\n",
    "    [1, 0, 1],\n",
    "    [1, 1, 0],\n",
    "    [0, 1, 1],\n",
    "    [0, 0, 0]\n",
    "])\n",
    "y = np.array([1, 1, 0, 0])\n",
    "\n",
    "# Обучение модели\n",
    "model = NaiveBayes()\n",
    "model.fit(X, y)\n",
    "\n",
    "# Предсказание\n",
    "X_test = np.array([\n",
    "    [1, 0, 0],\n",
    "    [0, 1, 0]\n",
    "])\n",
    "predictions = model.predict(X_test)\n",
    "print(predictions)"
   ]
  }
 ],
 "metadata": {
  "kernelspec": {
   "display_name": "Python 3",
   "language": "python",
   "name": "python3"
  },
  "language_info": {
   "codemirror_mode": {
    "name": "ipython",
    "version": 3
   },
   "file_extension": ".py",
   "mimetype": "text/x-python",
   "name": "python",
   "nbconvert_exporter": "python",
   "pygments_lexer": "ipython3",
   "version": "3.12.4"
  }
 },
 "nbformat": 4,
 "nbformat_minor": 2
}
