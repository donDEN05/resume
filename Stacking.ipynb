{
 "cells": [
  {
   "cell_type": "code",
   "execution_count": 35,
   "metadata": {},
   "outputs": [],
   "source": [
    "import numpy as np"
   ]
  },
  {
   "cell_type": "code",
   "execution_count": 36,
   "metadata": {},
   "outputs": [],
   "source": [
    "from sklearn.tree import DecisionTreeRegressor\n",
    "from sklearn.linear_model import Ridge"
   ]
  },
  {
   "cell_type": "code",
   "execution_count": 37,
   "metadata": {},
   "outputs": [],
   "source": [
    "class Stacking:\n",
    "    def __init__(self, model=DecisionTreeRegressor, depth=10, meta_model=Ridge):\n",
    "        self.meta_model = meta_model\n",
    "        self.model_type = model\n",
    "        self.models = {}\n",
    "        self.depth = depth\n",
    "        self.meta = None\n",
    "    \n",
    "    def fit(self, X, y):\n",
    "        predictions = []\n",
    "        for iter in range(self.depth):\n",
    "            self.models[iter] = self.model_type(max_depth=5)\n",
    "            self.models[iter].fit(X, y)\n",
    "            predictions.append(self.models[iter].predict(X))\n",
    "        self.meta = self.meta_model(alpha=1.0)\n",
    "        self.meta.fit(np.array(predictions).T, y)\n",
    "    \n",
    "    def predict(self, X):\n",
    "        predictions = []\n",
    "        for iter in self.models.keys():\n",
    "            predictions.append(self.models[iter].predict(X))\n",
    "        return self.meta.predict(np.array(predictions).T)"
   ]
  },
  {
   "cell_type": "code",
   "execution_count": 38,
   "metadata": {},
   "outputs": [
    {
     "name": "stdout",
     "output_type": "stream",
     "text": [
      "Mean Absolute Error (MAE): 110.83398369462924\n"
     ]
    }
   ],
   "source": [
    "from sklearn.datasets import make_regression\n",
    "from sklearn.model_selection import train_test_split\n",
    "from sklearn.metrics import mean_absolute_error\n",
    "from sklearn.preprocessing import StandardScaler\n",
    "\n",
    "# Создаем синтетические данные\n",
    "X, y = make_regression(n_samples=1000, n_features=20, noise=0.1, random_state=42)\n",
    "X_train, X_test, y_train, y_test = train_test_split(X, y, test_size=0.2, random_state=42)\n",
    "\n",
    "scaler = StandardScaler()\n",
    "X_train_scaled = scaler.fit_transform(X_train)\n",
    "X_test_scaled = scaler.transform(X_test)\n",
    "# Создаем и обучаем модель стекинга\n",
    "stacking_model = Stacking(model=DecisionTreeRegressor, depth=5)\n",
    "stacking_model.fit(X_train, y_train)\n",
    "\n",
    "# Делаем предсказания на тестовых данных\n",
    "y_pred = stacking_model.predict(X_test)\n",
    "\n",
    "# Оцениваем качество модели с помощью среднеквадратичной ошибки (MSE)\n",
    "mse = mean_absolute_error(y_test, y_pred)\n",
    "print(\"Mean Absolute Error (MAE):\", mse)"
   ]
  }
 ],
 "metadata": {
  "kernelspec": {
   "display_name": "Python 3",
   "language": "python",
   "name": "python3"
  },
  "language_info": {
   "codemirror_mode": {
    "name": "ipython",
    "version": 3
   },
   "file_extension": ".py",
   "mimetype": "text/x-python",
   "name": "python",
   "nbconvert_exporter": "python",
   "pygments_lexer": "ipython3",
   "version": "3.12.4"
  }
 },
 "nbformat": 4,
 "nbformat_minor": 2
}
