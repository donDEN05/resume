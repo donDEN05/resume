{
 "cells": [
  {
   "cell_type": "code",
   "execution_count": 2,
   "metadata": {},
   "outputs": [],
   "source": [
    "import pandas as pd\n",
    "import numpy as np"
   ]
  },
  {
   "cell_type": "code",
   "execution_count": 6,
   "metadata": {},
   "outputs": [],
   "source": [
    "class KNN:\n",
    "    def __init__(self):\n",
    "        self.coordinate_x = None\n",
    "        self.value = None\n",
    "        self.m = 1\n",
    "    \n",
    "    def fit(self, X, y):\n",
    "        self.m, _ = X.shape\n",
    "        self.coordinate_x = pd.DataFrame(X)\n",
    "        self.value = pd.Series(y)\n",
    "    \n",
    "    def predict(self,X, n_neighbors=3):\n",
    "        predict = []\n",
    "        m = X.shape[0]\n",
    "        for i in range(m):\n",
    "            knn_result = []\n",
    "            row = X.iloc[i]\n",
    "            for n_sample in range(self.m):\n",
    "                coordinate_row = self.coordinate_x.iloc[n_sample]\n",
    "                summa = np.sum((row - coordinate_row)**2)\n",
    "                value = self.value.iloc[n_sample]\n",
    "                knn_result.append([summa, value])\n",
    "            answer = sorted(knn_result, key=lambda x: x[0])\n",
    "            get_mode = []\n",
    "            for ans in range(n_neighbors):\n",
    "                get_mode.append(answer[ans][1])\n",
    "            get_mode = pd.Series(get_mode)\n",
    "            predict.append(get_mode.mode()[0])\n",
    "        return pd.Series(predict)"
   ]
  },
  {
   "cell_type": "code",
   "execution_count": 7,
   "metadata": {},
   "outputs": [],
   "source": [
    "data = {'feature_1': [1, 2, 3, 4, 5, 6, 7, 8, 9, 10],\n",
    "        'feature_2': [10, 9, 8, 7, 6, 5, 4, 3, 2, 1],\n",
    "        'target': [0, 0, 0, 0, 1, 1, 1, 1, 1, 1]}\n",
    "df = pd.DataFrame(data)\n",
    "\n",
    "X = df[['feature_1', 'feature_2']]\n",
    "y = df['target']\n"
   ]
  },
  {
   "cell_type": "code",
   "execution_count": 8,
   "metadata": {},
   "outputs": [],
   "source": [
    "model = KNN()"
   ]
  },
  {
   "cell_type": "code",
   "execution_count": 17,
   "metadata": {},
   "outputs": [
    {
     "data": {
      "text/plain": [
       "0    0\n",
       "1    0\n",
       "2    0\n",
       "3    0\n",
       "4    1\n",
       "5    1\n",
       "6    1\n",
       "7    1\n",
       "8    1\n",
       "9    1\n",
       "dtype: int64"
      ]
     },
     "execution_count": 17,
     "metadata": {},
     "output_type": "execute_result"
    }
   ],
   "source": [
    "model.fit(X, y)\n",
    "model.predict(X, 1)"
   ]
  }
 ],
 "metadata": {
  "kernelspec": {
   "display_name": "Python 3",
   "language": "python",
   "name": "python3"
  },
  "language_info": {
   "codemirror_mode": {
    "name": "ipython",
    "version": 3
   },
   "file_extension": ".py",
   "mimetype": "text/x-python",
   "name": "python",
   "nbconvert_exporter": "python",
   "pygments_lexer": "ipython3",
   "version": "3.13.2"
  }
 },
 "nbformat": 4,
 "nbformat_minor": 2
}
