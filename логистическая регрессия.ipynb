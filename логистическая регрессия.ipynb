{
 "cells": [
  {
   "cell_type": "code",
   "execution_count": 4,
   "metadata": {},
   "outputs": [],
   "source": [
    "import pandas as pd\n",
    "import numpy as np"
   ]
  },
  {
   "cell_type": "code",
   "execution_count": 23,
   "metadata": {},
   "outputs": [],
   "source": [
    "class LogisticRegression:\n",
    "    def __init__(self, learning_rate=0.1, iterations=100, porog=0.5):\n",
    "        self.weigts = None\n",
    "        self.m = 1\n",
    "        self.n = 1\n",
    "        self.learning_rate = learning_rate\n",
    "        self.bias = 1\n",
    "        self.n_estimators = iterations\n",
    "        self.porog = porog\n",
    "\n",
    "    def sigmoid(self, z):\n",
    "        return 1 / (1 + np.exp(-z))\n",
    "    \n",
    "    def fit(self, X, y):\n",
    "        self.bias = 0\n",
    "        self.m, self.n = X.shape\n",
    "        self.weigts = np.zeros(self.n)\n",
    "        for n in range(self.n_estimators):\n",
    "            dot = np.dot(X, self.weigts) + self.bias\n",
    "            predicted_y = self.sigmoid(dot)\n",
    "            dw = (1 / self.m) * np.dot(X.T, (predicted_y - y))\n",
    "            db = (1 / self.m) * np.sum(predicted_y - y)\n",
    "            self.weigts -= self.learning_rate * dw\n",
    "            self.bias -= self.learning_rate * db\n",
    "    \n",
    "    def predict(self, X):\n",
    "        dot = np.dot(X, self.weigts) + self.bias\n",
    "        y_pred = self.sigmoid(dot)\n",
    "        y = [1 if i > self.porog else 0 for i in y_pred]\n",
    "        return y"
   ]
  },
  {
   "cell_type": "code",
   "execution_count": 24,
   "metadata": {},
   "outputs": [
    {
     "data": {
      "text/plain": [
       "[0, 0, 1, 1, 1]"
      ]
     },
     "execution_count": 24,
     "metadata": {},
     "output_type": "execute_result"
    }
   ],
   "source": [
    "X = np.array([[1, 2], [2, 3], [3, 4], [4, 5], [5, 6]])\n",
    "y = np.array([0, 0, 1, 1, 1])\n",
    "model = LogisticRegression(learning_rate=0.01, iterations=100, porog=0.7)\n",
    "model.fit(X, y)\n",
    "predictions = model.predict(X)\n",
    "predictions"
   ]
  }
 ],
 "metadata": {
  "kernelspec": {
   "display_name": "Python 3",
   "language": "python",
   "name": "python3"
  },
  "language_info": {
   "codemirror_mode": {
    "name": "ipython",
    "version": 3
   },
   "file_extension": ".py",
   "mimetype": "text/x-python",
   "name": "python",
   "nbconvert_exporter": "python",
   "pygments_lexer": "ipython3",
   "version": "3.12.4"
  }
 },
 "nbformat": 4,
 "nbformat_minor": 2
}
