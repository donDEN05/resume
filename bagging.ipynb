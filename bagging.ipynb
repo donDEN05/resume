{
 "cells": [
  {
   "cell_type": "code",
   "execution_count": 250,
   "metadata": {},
   "outputs": [],
   "source": [
    "import numpy as np\n",
    "import pandas as pd"
   ]
  },
  {
   "cell_type": "code",
   "execution_count": 251,
   "metadata": {},
   "outputs": [],
   "source": [
    "class LogisticRegression:\n",
    "    def __init__(self, learning_rate=0.1, iterations=100, porog=0.5):\n",
    "        self.weigts = None\n",
    "        self.m = 1\n",
    "        self.n = 1\n",
    "        self.learning_rate = learning_rate\n",
    "        self.bias = 1\n",
    "        self.n_estimators = iterations\n",
    "        self.porog = porog\n",
    "\n",
    "    def sigmoid(self, z):\n",
    "        return 1 / (1 + np.exp(-z))\n",
    "    \n",
    "    def fit(self, X_now, y_now):\n",
    "        self.bias = 0\n",
    "        y = np.array(y_now)\n",
    "        X = np.array(X_now)\n",
    "        self.m, self.n = X.shape\n",
    "        self.weigts = np.zeros(self.n)\n",
    "        for n in range(self.n_estimators):\n",
    "            dot = np.dot(X, self.weigts) + self.bias\n",
    "            predicted_y = self.sigmoid(dot)\n",
    "            dw = (1 / self.m) * np.dot(X.T, (predicted_y - y))\n",
    "            db = (1 / self.m) * np.sum(predicted_y - y)\n",
    "            self.weigts -= self.learning_rate * dw\n",
    "            self.bias -= self.learning_rate * db\n",
    "    \n",
    "    def predict(self, X):\n",
    "        dot = np.dot(X, self.weigts) + self.bias\n",
    "        y_pred = self.sigmoid(dot)\n",
    "        y = [1 if i > self.porog else 0 for i in y_pred]\n",
    "        return y_pred"
   ]
  },
  {
   "cell_type": "code",
   "execution_count": 252,
   "metadata": {},
   "outputs": [],
   "source": [
    "class Bagging:\n",
    "    def __init__(self, model, depth, l_r, iter):\n",
    "        self.model_type = model\n",
    "        self.depth = depth\n",
    "        self.models = {}\n",
    "        self.m = 1\n",
    "        self.n = 1\n",
    "        self.l_r = l_r\n",
    "        self.iter = iter\n",
    "    \n",
    "    def fit(self, X, y):\n",
    "        self.m, self.n = X.shape\n",
    "        data = self.bootstrapp(X, y)\n",
    "        for i in range(self.depth):\n",
    "            x_i = data[i][0]\n",
    "            y_i = data[i][1]\n",
    "            self.models[str(i)] = self.model_type(learning_rate=self.l_r, iterations=self.iter)\n",
    "            self.models[str(i)].fit(x_i, y_i)\n",
    "    \n",
    "    def predict(self, X):\n",
    "        pred = np.zeros(self.m)\n",
    "        answer_mod = []\n",
    "        for i in range(self.depth):\n",
    "            i_now = str(i)\n",
    "            answer_mod.append(self.models[i_now].predict(X))\n",
    "        for i in range(self.m):\n",
    "            for j in range(self.depth):\n",
    "                pred[i] += answer_mod[j][i]\n",
    "        pred /= self.depth\n",
    "        return pred\n",
    "    \n",
    "    def bootstrapp(self, X, y):\n",
    "        datasets = []\n",
    "        for _ in range(self.depth):\n",
    "            answer_x = []\n",
    "            answer_y = []\n",
    "            l = list(range(self.m))\n",
    "            choice = np.random.choice(l, size=self.m)\n",
    "            for i in choice:\n",
    "                answer_x.append(X[i])\n",
    "                answer_y.append(y[i])\n",
    "            datasets.append([answer_x, answer_y])\n",
    "        return datasets"
   ]
  },
  {
   "cell_type": "code",
   "execution_count": 253,
   "metadata": {},
   "outputs": [],
   "source": [
    "X = np.array([[1, 2, 4, 7, 8], [7, 2, 1, 2, 5], [3, 2, 1, 1, 4], [0, 2, 1, 8, 1], [2, 1, 0, 8, 5]])\n",
    "y = np.array([0, 0, 1, 1, 1])"
   ]
  },
  {
   "cell_type": "code",
   "execution_count": 254,
   "metadata": {},
   "outputs": [],
   "source": [
    "bag = Bagging(model=LogisticRegression, depth=5, l_r=0.005, iter=10500)\n",
    "bag.fit(X, y)"
   ]
  },
  {
   "cell_type": "code",
   "execution_count": 255,
   "metadata": {},
   "outputs": [
    {
     "data": {
      "text/plain": [
       "array([0.6081888 , 0.22458566, 0.96077199, 0.98145567, 0.79823742])"
      ]
     },
     "execution_count": 255,
     "metadata": {},
     "output_type": "execute_result"
    }
   ],
   "source": [
    "bag.predict(X)"
   ]
  }
 ],
 "metadata": {
  "kernelspec": {
   "display_name": "Python 3",
   "language": "python",
   "name": "python3"
  },
  "language_info": {
   "codemirror_mode": {
    "name": "ipython",
    "version": 3
   },
   "file_extension": ".py",
   "mimetype": "text/x-python",
   "name": "python",
   "nbconvert_exporter": "python",
   "pygments_lexer": "ipython3",
   "version": "3.12.4"
  }
 },
 "nbformat": 4,
 "nbformat_minor": 2
}
