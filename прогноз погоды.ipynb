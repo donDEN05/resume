{
 "cells": [
  {
   "cell_type": "markdown",
   "metadata": {},
   "source": [
    "Построю модель rf для датасета с погодой\n"
   ]
  },
  {
   "cell_type": "code",
   "execution_count": 2,
   "metadata": {},
   "outputs": [
    {
     "name": "stderr",
     "output_type": "stream",
     "text": [
      "C:\\Users\\foksm\\AppData\\Roaming\\Python\\Python312\\site-packages\\tqdm\\auto.py:21: TqdmWarning: IProgress not found. Please update jupyter and ipywidgets. See https://ipywidgets.readthedocs.io/en/stable/user_install.html\n",
      "  from .autonotebook import tqdm as notebook_tqdm\n"
     ]
    },
    {
     "name": "stdout",
     "output_type": "stream",
     "text": [
      "Warning: Looks like you're using an outdated `kagglehub` version, please consider updating (latest version: 0.3.6)\n",
      "Path to dataset files: C:\\Users\\foksm\\.cache\\kagglehub\\datasets\\ochid7\\predict-the-weather\\versions\\1\n"
     ]
    }
   ],
   "source": [
    "import kagglehub\n",
    "\n",
    "# Download latest version\n",
    "path = kagglehub.dataset_download(\"ochid7/predict-the-weather\")\n",
    "\n",
    "print(\"Path to dataset files:\", path)"
   ]
  },
  {
   "cell_type": "markdown",
   "metadata": {},
   "source": [
    "основные библеотеки:"
   ]
  },
  {
   "cell_type": "code",
   "execution_count": 3,
   "metadata": {},
   "outputs": [],
   "source": [
    "import pandas as pd\n",
    "import seaborn as sns\n",
    "import matplotlib.pyplot as plt"
   ]
  },
  {
   "cell_type": "code",
   "execution_count": 4,
   "metadata": {},
   "outputs": [
    {
     "data": {
      "text/plain": [
       "Index(['ghi', 'dhi', 'precip', 'timestamp_utc', 'temp', 'app_temp', 'dni',\n",
       "       'snow_depth', 'wind_cdir', 'rh', 'pod', 'pop', 'ozone', 'clouds_hi',\n",
       "       'clouds', 'vis', 'wind_spd', 'wind_cdir_full', 'slp', 'datetime', 'ts',\n",
       "       'pres', 'dewpt', 'uv', 'clouds_mid', 'wind_dir', 'snow', 'clouds_low',\n",
       "       'solar_rad', 'wind_gust_spd', 'timestamp_local', 'description(output)',\n",
       "       'code', 'icon'],\n",
       "      dtype='object')"
      ]
     },
     "execution_count": 4,
     "metadata": {},
     "output_type": "execute_result"
    }
   ],
   "source": [
    "path = 'weather_data.csv'\n",
    "data = pd.read_csv(path)\n",
    "data.columns"
   ]
  },
  {
   "cell_type": "code",
   "execution_count": 5,
   "metadata": {},
   "outputs": [
    {
     "data": {
      "text/html": [
       "<div>\n",
       "<style scoped>\n",
       "    .dataframe tbody tr th:only-of-type {\n",
       "        vertical-align: middle;\n",
       "    }\n",
       "\n",
       "    .dataframe tbody tr th {\n",
       "        vertical-align: top;\n",
       "    }\n",
       "\n",
       "    .dataframe thead th {\n",
       "        text-align: right;\n",
       "    }\n",
       "</style>\n",
       "<table border=\"1\" class=\"dataframe\">\n",
       "  <thead>\n",
       "    <tr style=\"text-align: right;\">\n",
       "      <th></th>\n",
       "      <th>ghi</th>\n",
       "      <th>dhi</th>\n",
       "      <th>precip</th>\n",
       "      <th>timestamp_utc</th>\n",
       "      <th>temp</th>\n",
       "      <th>app_temp</th>\n",
       "      <th>dni</th>\n",
       "      <th>snow_depth</th>\n",
       "      <th>wind_cdir</th>\n",
       "      <th>rh</th>\n",
       "      <th>...</th>\n",
       "      <th>clouds_mid</th>\n",
       "      <th>wind_dir</th>\n",
       "      <th>snow</th>\n",
       "      <th>clouds_low</th>\n",
       "      <th>solar_rad</th>\n",
       "      <th>wind_gust_spd</th>\n",
       "      <th>timestamp_local</th>\n",
       "      <th>description(output)</th>\n",
       "      <th>code</th>\n",
       "      <th>icon</th>\n",
       "    </tr>\n",
       "  </thead>\n",
       "  <tbody>\n",
       "    <tr>\n",
       "      <th>0</th>\n",
       "      <td>0</td>\n",
       "      <td>0</td>\n",
       "      <td>0.0</td>\n",
       "      <td>2025-01-15T12:00:00</td>\n",
       "      <td>25.9</td>\n",
       "      <td>18.7</td>\n",
       "      <td>0</td>\n",
       "      <td>0</td>\n",
       "      <td>NNW</td>\n",
       "      <td>51</td>\n",
       "      <td>...</td>\n",
       "      <td>0</td>\n",
       "      <td>350</td>\n",
       "      <td>0</td>\n",
       "      <td>0</td>\n",
       "      <td>0.00000</td>\n",
       "      <td>11.9</td>\n",
       "      <td>2025-01-15T07:00:00</td>\n",
       "      <td>Few clouds</td>\n",
       "      <td>801</td>\n",
       "      <td>c02n</td>\n",
       "    </tr>\n",
       "    <tr>\n",
       "      <th>1</th>\n",
       "      <td>385</td>\n",
       "      <td>87</td>\n",
       "      <td>0.0</td>\n",
       "      <td>2025-01-15T15:00:00</td>\n",
       "      <td>29.3</td>\n",
       "      <td>22.8</td>\n",
       "      <td>748</td>\n",
       "      <td>0</td>\n",
       "      <td>NNW</td>\n",
       "      <td>41</td>\n",
       "      <td>...</td>\n",
       "      <td>0</td>\n",
       "      <td>360</td>\n",
       "      <td>0</td>\n",
       "      <td>0</td>\n",
       "      <td>384.62994</td>\n",
       "      <td>11.9</td>\n",
       "      <td>2025-01-15T10:00:00</td>\n",
       "      <td>Clear Sky</td>\n",
       "      <td>800</td>\n",
       "      <td>c01d</td>\n",
       "    </tr>\n",
       "    <tr>\n",
       "      <th>2</th>\n",
       "      <td>542</td>\n",
       "      <td>101</td>\n",
       "      <td>0.0</td>\n",
       "      <td>2025-01-15T18:00:00</td>\n",
       "      <td>36.5</td>\n",
       "      <td>32.0</td>\n",
       "      <td>831</td>\n",
       "      <td>0</td>\n",
       "      <td>NNW</td>\n",
       "      <td>30</td>\n",
       "      <td>...</td>\n",
       "      <td>0</td>\n",
       "      <td>340</td>\n",
       "      <td>0</td>\n",
       "      <td>0</td>\n",
       "      <td>542.37920</td>\n",
       "      <td>9.6</td>\n",
       "      <td>2025-01-15T13:00:00</td>\n",
       "      <td>Few clouds</td>\n",
       "      <td>801</td>\n",
       "      <td>c02d</td>\n",
       "    </tr>\n",
       "    <tr>\n",
       "      <th>3</th>\n",
       "      <td>193</td>\n",
       "      <td>65</td>\n",
       "      <td>0.0</td>\n",
       "      <td>2025-01-15T21:00:00</td>\n",
       "      <td>38.3</td>\n",
       "      <td>35.6</td>\n",
       "      <td>581</td>\n",
       "      <td>0</td>\n",
       "      <td>NW</td>\n",
       "      <td>28</td>\n",
       "      <td>...</td>\n",
       "      <td>0</td>\n",
       "      <td>310</td>\n",
       "      <td>0</td>\n",
       "      <td>0</td>\n",
       "      <td>192.98000</td>\n",
       "      <td>6.9</td>\n",
       "      <td>2025-01-15T16:00:00</td>\n",
       "      <td>Clear Sky</td>\n",
       "      <td>800</td>\n",
       "      <td>c01d</td>\n",
       "    </tr>\n",
       "    <tr>\n",
       "      <th>4</th>\n",
       "      <td>0</td>\n",
       "      <td>0</td>\n",
       "      <td>0.0</td>\n",
       "      <td>2025-01-16T00:00:00</td>\n",
       "      <td>29.3</td>\n",
       "      <td>27.5</td>\n",
       "      <td>0</td>\n",
       "      <td>0</td>\n",
       "      <td>W</td>\n",
       "      <td>46</td>\n",
       "      <td>...</td>\n",
       "      <td>0</td>\n",
       "      <td>280</td>\n",
       "      <td>0</td>\n",
       "      <td>0</td>\n",
       "      <td>0.00000</td>\n",
       "      <td>2.0</td>\n",
       "      <td>2025-01-15T19:00:00</td>\n",
       "      <td>Few clouds</td>\n",
       "      <td>801</td>\n",
       "      <td>c02n</td>\n",
       "    </tr>\n",
       "  </tbody>\n",
       "</table>\n",
       "<p>5 rows × 34 columns</p>\n",
       "</div>"
      ],
      "text/plain": [
       "   ghi  dhi  precip        timestamp_utc  temp  app_temp  dni  snow_depth  \\\n",
       "0    0    0     0.0  2025-01-15T12:00:00  25.9      18.7    0           0   \n",
       "1  385   87     0.0  2025-01-15T15:00:00  29.3      22.8  748           0   \n",
       "2  542  101     0.0  2025-01-15T18:00:00  36.5      32.0  831           0   \n",
       "3  193   65     0.0  2025-01-15T21:00:00  38.3      35.6  581           0   \n",
       "4    0    0     0.0  2025-01-16T00:00:00  29.3      27.5    0           0   \n",
       "\n",
       "  wind_cdir  rh  ... clouds_mid  wind_dir  snow  clouds_low  solar_rad  \\\n",
       "0       NNW  51  ...          0       350     0           0    0.00000   \n",
       "1       NNW  41  ...          0       360     0           0  384.62994   \n",
       "2       NNW  30  ...          0       340     0           0  542.37920   \n",
       "3        NW  28  ...          0       310     0           0  192.98000   \n",
       "4         W  46  ...          0       280     0           0    0.00000   \n",
       "\n",
       "   wind_gust_spd      timestamp_local description(output)  code  icon  \n",
       "0           11.9  2025-01-15T07:00:00          Few clouds   801  c02n  \n",
       "1           11.9  2025-01-15T10:00:00           Clear Sky   800  c01d  \n",
       "2            9.6  2025-01-15T13:00:00          Few clouds   801  c02d  \n",
       "3            6.9  2025-01-15T16:00:00           Clear Sky   800  c01d  \n",
       "4            2.0  2025-01-15T19:00:00          Few clouds   801  c02n  \n",
       "\n",
       "[5 rows x 34 columns]"
      ]
     },
     "execution_count": 5,
     "metadata": {},
     "output_type": "execute_result"
    }
   ],
   "source": [
    "data.head()"
   ]
  },
  {
   "cell_type": "code",
   "execution_count": 6,
   "metadata": {},
   "outputs": [],
   "source": [
    "y = data['description(output)']\n",
    "X = data[['ghi', 'dhi', 'precip', 'timestamp_utc', 'temp', 'app_temp', 'dni', 'wind_cdir', 'rh']]"
   ]
  },
  {
   "cell_type": "markdown",
   "metadata": {},
   "source": [
    "сделаю дату и направление ветра категориальными данными"
   ]
  },
  {
   "cell_type": "code",
   "execution_count": 7,
   "metadata": {},
   "outputs": [
    {
     "data": {
      "text/plain": [
       "0     2025-01-15T12:00:00\n",
       "1     2025-01-15T15:00:00\n",
       "2     2025-01-15T18:00:00\n",
       "3     2025-01-15T21:00:00\n",
       "4     2025-01-16T00:00:00\n",
       "5     2025-01-16T03:00:00\n",
       "6     2025-01-16T06:00:00\n",
       "7     2025-01-16T09:00:00\n",
       "8     2025-01-16T12:00:00\n",
       "9     2025-01-16T15:00:00\n",
       "10    2025-01-16T18:00:00\n",
       "11    2025-01-16T21:00:00\n",
       "12    2025-01-17T00:00:00\n",
       "13    2025-01-17T03:00:00\n",
       "14    2025-01-17T06:00:00\n",
       "15    2025-01-17T09:00:00\n",
       "16    2025-01-17T12:00:00\n",
       "17    2025-01-17T15:00:00\n",
       "18    2025-01-17T18:00:00\n",
       "19    2025-01-17T21:00:00\n",
       "20    2025-01-18T00:00:00\n",
       "21    2025-01-18T03:00:00\n",
       "22    2025-01-18T06:00:00\n",
       "23    2025-01-18T09:00:00\n",
       "24    2025-01-18T12:00:00\n",
       "25    2025-01-18T15:00:00\n",
       "26    2025-01-18T18:00:00\n",
       "27    2025-01-18T21:00:00\n",
       "28    2025-01-19T00:00:00\n",
       "29    2025-01-19T03:00:00\n",
       "30    2025-01-19T06:00:00\n",
       "31    2025-01-19T09:00:00\n",
       "32    2025-01-19T12:00:00\n",
       "33    2025-01-19T15:00:00\n",
       "34    2025-01-19T18:00:00\n",
       "35    2025-01-19T21:00:00\n",
       "36    2025-01-20T00:00:00\n",
       "37    2025-01-20T03:00:00\n",
       "38    2025-01-20T06:00:00\n",
       "39    2025-01-20T09:00:00\n",
       "Name: timestamp_utc, dtype: object"
      ]
     },
     "execution_count": 7,
     "metadata": {},
     "output_type": "execute_result"
    }
   ],
   "source": [
    "X['timestamp_utc']"
   ]
  },
  {
   "cell_type": "code",
   "execution_count": 8,
   "metadata": {},
   "outputs": [
    {
     "name": "stderr",
     "output_type": "stream",
     "text": [
      "C:\\Users\\foksm\\AppData\\Local\\Temp\\ipykernel_6528\\1987262666.py:19: SettingWithCopyWarning: \n",
      "A value is trying to be set on a copy of a slice from a DataFrame.\n",
      "Try using .loc[row_indexer,col_indexer] = value instead\n",
      "\n",
      "See the caveats in the documentation: https://pandas.pydata.org/pandas-docs/stable/user_guide/indexing.html#returning-a-view-versus-a-copy\n",
      "  X['timestamp_utc'] = X['timestamp_utc'].apply(make_cat)\n"
     ]
    }
   ],
   "source": [
    "def make_cat(time):\n",
    "    if time[11:13] == '00':\n",
    "        return 0\n",
    "    elif time[11:13] == '03':\n",
    "        return 1\n",
    "    elif time[11:13] == '06':\n",
    "        return 2\n",
    "    elif time[11:13] == '09':\n",
    "        return 3\n",
    "    elif time[11:13] == '12':\n",
    "        return 4\n",
    "    elif time[11:13] == '15':\n",
    "        return 5\n",
    "    elif time[11:13] == '18':\n",
    "        return 6\n",
    "    elif time[11:13] == '21':\n",
    "        return 7\n",
    "\n",
    "X['timestamp_utc'] = X['timestamp_utc'].apply(make_cat)"
   ]
  },
  {
   "cell_type": "code",
   "execution_count": 9,
   "metadata": {},
   "outputs": [],
   "source": [
    "import category_encoders as ce"
   ]
  },
  {
   "cell_type": "code",
   "execution_count": 10,
   "metadata": {},
   "outputs": [
    {
     "name": "stderr",
     "output_type": "stream",
     "text": [
      "C:\\Users\\foksm\\AppData\\Local\\Temp\\ipykernel_6528\\1481972065.py:2: SettingWithCopyWarning: \n",
      "A value is trying to be set on a copy of a slice from a DataFrame.\n",
      "Try using .loc[row_indexer,col_indexer] = value instead\n",
      "\n",
      "See the caveats in the documentation: https://pandas.pydata.org/pandas-docs/stable/user_guide/indexing.html#returning-a-view-versus-a-copy\n",
      "  X['wind_cdir'] = categorial.fit_transform(X['wind_cdir'])\n"
     ]
    }
   ],
   "source": [
    "categorial = ce.OrdinalEncoder(cols=['wind_cdir'])\n",
    "X['wind_cdir'] = categorial.fit_transform(X['wind_cdir'])"
   ]
  },
  {
   "cell_type": "code",
   "execution_count": 11,
   "metadata": {},
   "outputs": [],
   "source": [
    "from sklearn.ensemble import RandomForestClassifier\n",
    "from sklearn.model_selection import train_test_split\n",
    "from sklearn.preprocessing import StandardScaler"
   ]
  },
  {
   "cell_type": "code",
   "execution_count": 12,
   "metadata": {},
   "outputs": [
    {
     "data": {
      "text/plain": [
       "count             32\n",
       "unique             7\n",
       "top       Few clouds\n",
       "freq              14\n",
       "Name: description(output), dtype: object"
      ]
     },
     "execution_count": 12,
     "metadata": {},
     "output_type": "execute_result"
    }
   ],
   "source": [
    "rf_model_1 = RandomForestClassifier()\n",
    "train_X, val_X, train_y, val_y = train_test_split(X, y, train_size=0.8, random_state=10)\n",
    "train_y.describe()"
   ]
  },
  {
   "cell_type": "code",
   "execution_count": 13,
   "metadata": {},
   "outputs": [
    {
     "data": {
      "text/plain": [
       "<Axes: ylabel='description(output)'>"
      ]
     },
     "execution_count": 13,
     "metadata": {},
     "output_type": "execute_result"
    },
    {
     "data": {
      "image/png": "[encoded data removed]",
      "text/plain": [
       "<Figure size 640x480 with 1 Axes>"
      ]
     },
     "metadata": {},
     "output_type": "display_data"
    }
   ],
   "source": [
    "sns.lineplot(train_y)"
   ]
  },
  {
   "cell_type": "code",
   "execution_count": 14,
   "metadata": {},
   "outputs": [],
   "source": [
    "rf_model_1.fit(train_X, train_y)\n",
    "predict_1 = rf_model_1.predict(val_X)"
   ]
  },
  {
   "cell_type": "code",
   "execution_count": 15,
   "metadata": {},
   "outputs": [],
   "source": [
    "from sklearn.metrics import classification_report, confusion_matrix"
   ]
  },
  {
   "cell_type": "code",
   "execution_count": 16,
   "metadata": {},
   "outputs": [
    {
     "name": "stdout",
     "output_type": "stream",
     "text": [
      "                  precision    recall  f1-score   support\n",
      "\n",
      "   Broken clouds       0.00      0.00      0.00         1\n",
      "       Clear Sky       0.00      0.00      0.00         0\n",
      "         Drizzle       0.00      0.00      0.00         1\n",
      "      Few clouds       0.75      0.75      0.75         4\n",
      " Overcast clouds       0.50      0.50      0.50         2\n",
      "Scattered clouds       0.00      0.00      0.00         0\n",
      "\n",
      "        accuracy                           0.50         8\n",
      "       macro avg       0.21      0.21      0.21         8\n",
      "    weighted avg       0.50      0.50      0.50         8\n",
      "\n"
     ]
    },
    {
     "name": "stderr",
     "output_type": "stream",
     "text": [
      "c:\\Program Files\\Python312\\Lib\\site-packages\\sklearn\\metrics\\_classification.py:1565: UndefinedMetricWarning: Precision is ill-defined and being set to 0.0 in labels with no predicted samples. Use `zero_division` parameter to control this behavior.\n",
      "  _warn_prf(average, modifier, f\"{metric.capitalize()} is\", len(result))\n",
      "c:\\Program Files\\Python312\\Lib\\site-packages\\sklearn\\metrics\\_classification.py:1565: UndefinedMetricWarning: Recall is ill-defined and being set to 0.0 in labels with no true samples. Use `zero_division` parameter to control this behavior.\n",
      "  _warn_prf(average, modifier, f\"{metric.capitalize()} is\", len(result))\n",
      "c:\\Program Files\\Python312\\Lib\\site-packages\\sklearn\\metrics\\_classification.py:1565: UndefinedMetricWarning: Precision is ill-defined and being set to 0.0 in labels with no predicted samples. Use `zero_division` parameter to control this behavior.\n",
      "  _warn_prf(average, modifier, f\"{metric.capitalize()} is\", len(result))\n",
      "c:\\Program Files\\Python312\\Lib\\site-packages\\sklearn\\metrics\\_classification.py:1565: UndefinedMetricWarning: Recall is ill-defined and being set to 0.0 in labels with no true samples. Use `zero_division` parameter to control this behavior.\n",
      "  _warn_prf(average, modifier, f\"{metric.capitalize()} is\", len(result))\n",
      "c:\\Program Files\\Python312\\Lib\\site-packages\\sklearn\\metrics\\_classification.py:1565: UndefinedMetricWarning: Precision is ill-defined and being set to 0.0 in labels with no predicted samples. Use `zero_division` parameter to control this behavior.\n",
      "  _warn_prf(average, modifier, f\"{metric.capitalize()} is\", len(result))\n",
      "c:\\Program Files\\Python312\\Lib\\site-packages\\sklearn\\metrics\\_classification.py:1565: UndefinedMetricWarning: Recall is ill-defined and being set to 0.0 in labels with no true samples. Use `zero_division` parameter to control this behavior.\n",
      "  _warn_prf(average, modifier, f\"{metric.capitalize()} is\", len(result))\n"
     ]
    }
   ],
   "source": [
    "print(classification_report(val_y, predict_1))"
   ]
  },
  {
   "cell_type": "code",
   "execution_count": 17,
   "metadata": {},
   "outputs": [
    {
     "data": {
      "text/plain": [
       "<Axes: >"
      ]
     },
     "execution_count": 17,
     "metadata": {},
     "output_type": "execute_result"
    },
    {
     "data": {
      "image/png": "[encoded data removed]",
      "text/plain": [
       "<Figure size 640x480 with 2 Axes>"
      ]
     },
     "metadata": {},
     "output_type": "display_data"
    }
   ],
   "source": [
    "sns.heatmap(confusion_matrix(val_y, predict_1), annot=True)"
   ]
  },
  {
   "cell_type": "markdown",
   "metadata": {},
   "source": [
    "accuracy - 0.62, 5 из 8 предположений верны\n"
   ]
  },
  {
   "cell_type": "markdown",
   "metadata": {},
   "source": [
    "попробую масшабировать данные"
   ]
  },
  {
   "cell_type": "code",
   "execution_count": 18,
   "metadata": {},
   "outputs": [
    {
     "data": {
      "text/plain": [
       "array([[ 1.89218742,  1.59868629, -0.40796742,  1.14735257, -0.08419431,\n",
       "        -0.32399358,  1.53431575, -1.03881673, -1.82972539],\n",
       "       [ 0.26362116,  0.78146646,  2.55906835,  1.58443926,  1.20054846,\n",
       "         1.26939541,  0.87867846,  0.37574222,  1.0427789 ],\n",
       "       [ 0.28283728,  0.8048156 , -0.40796742,  1.58443926,  1.12570908,\n",
       "         1.20479856,  0.88974406, -1.03881673,  0.65977833],\n",
       "       [-0.71159698, -0.75957665,  0.77884689, -0.6009942 ,  0.61430662,\n",
       "         0.79568517, -0.76456437,  0.02210248,  1.52152961],\n",
       "       [-0.71159698, -0.75957665, -0.40796742, -0.6009942 , -0.37107862,\n",
       "        -0.42088886, -0.76456437,  1.0830217 ,  0.46827804],\n",
       "       [-0.71159698, -0.75957665, -0.40796742, -1.03808089, -0.08419431,\n",
       "        -0.13020303, -0.76456437, -0.33153726,  0.32465283],\n",
       "       [-0.71159698, -0.75957665, -0.40796742, -0.16390751, -1.83044662,\n",
       "        -1.62669674, -0.76456437,  0.02210248, -0.24984803],\n",
       "       [-0.71159698, -0.75957665, -0.40796742,  0.27317918, -0.445918  ,\n",
       "        -0.20556602, -0.76456437,  1.43666144,  1.09065397]])"
      ]
     },
     "execution_count": 18,
     "metadata": {},
     "output_type": "execute_result"
    }
   ],
   "source": [
    "ss = StandardScaler()\n",
    "train_X_sc = ss.fit_transform(train_X)\n",
    "val_X_sc = ss.transform(val_X)\n",
    "val_X_sc"
   ]
  },
  {
   "cell_type": "code",
   "execution_count": 19,
   "metadata": {},
   "outputs": [],
   "source": [
    "rf_model_2 = RandomForestClassifier()\n",
    "rf_model_2.fit(train_X_sc, train_y)\n",
    "predict_2 = rf_model_2.predict(val_X_sc)"
   ]
  },
  {
   "cell_type": "code",
   "execution_count": 20,
   "metadata": {},
   "outputs": [
    {
     "data": {
      "text/plain": [
       "<Axes: >"
      ]
     },
     "execution_count": 20,
     "metadata": {},
     "output_type": "execute_result"
    },
    {
     "data": {
      "image/png": "[encoded data removed]",
      "text/plain": [
       "<Figure size 640x480 with 2 Axes>"
      ]
     },
     "metadata": {},
     "output_type": "display_data"
    }
   ],
   "source": [
    "sns.heatmap(confusion_matrix(predict_2, val_y), annot=True)"
   ]
  },
  {
   "cell_type": "code",
   "execution_count": 21,
   "metadata": {},
   "outputs": [
    {
     "name": "stdout",
     "output_type": "stream",
     "text": [
      "                 precision    recall  f1-score   support\n",
      "\n",
      "  Broken clouds       0.00      0.00      0.00         1\n",
      "        Drizzle       0.00      0.00      0.00         1\n",
      "     Few clouds       1.00      1.00      1.00         4\n",
      "Overcast clouds       0.33      0.50      0.40         2\n",
      "\n",
      "       accuracy                           0.62         8\n",
      "      macro avg       0.33      0.38      0.35         8\n",
      "   weighted avg       0.58      0.62      0.60         8\n",
      "\n"
     ]
    },
    {
     "name": "stderr",
     "output_type": "stream",
     "text": [
      "c:\\Program Files\\Python312\\Lib\\site-packages\\sklearn\\metrics\\_classification.py:1565: UndefinedMetricWarning: Precision is ill-defined and being set to 0.0 in labels with no predicted samples. Use `zero_division` parameter to control this behavior.\n",
      "  _warn_prf(average, modifier, f\"{metric.capitalize()} is\", len(result))\n",
      "c:\\Program Files\\Python312\\Lib\\site-packages\\sklearn\\metrics\\_classification.py:1565: UndefinedMetricWarning: Precision is ill-defined and being set to 0.0 in labels with no predicted samples. Use `zero_division` parameter to control this behavior.\n",
      "  _warn_prf(average, modifier, f\"{metric.capitalize()} is\", len(result))\n",
      "c:\\Program Files\\Python312\\Lib\\site-packages\\sklearn\\metrics\\_classification.py:1565: UndefinedMetricWarning: Precision is ill-defined and being set to 0.0 in labels with no predicted samples. Use `zero_division` parameter to control this behavior.\n",
      "  _warn_prf(average, modifier, f\"{metric.capitalize()} is\", len(result))\n"
     ]
    }
   ],
   "source": [
    "print(classification_report(val_y, predict_2))"
   ]
  },
  {
   "cell_type": "markdown",
   "metadata": {},
   "source": [
    "точность - 0.5, меньше чем без масшабирования, продолжу использовать масшабированные данные"
   ]
  },
  {
   "cell_type": "code",
   "execution_count": 31,
   "metadata": {},
   "outputs": [
    {
     "data": {
      "text/plain": [
       "<Axes: ylabel='None'>"
      ]
     },
     "execution_count": 31,
     "metadata": {},
     "output_type": "execute_result"
    },
    {
     "data": {
      "image/png": "[encoded data removed]",
      "text/plain": [
       "<Figure size 640x480 with 1 Axes>"
      ]
     },
     "metadata": {},
     "output_type": "display_data"
    }
   ],
   "source": [
    "imp_2 = rf_model_2.feature_importances_\n",
    "sns.barplot(x=imp_2, y=train_X.columns)"
   ]
  },
  {
   "cell_type": "markdown",
   "metadata": {},
   "source": [
    "использую pca тест, чтобы узнать важность признаков"
   ]
  },
  {
   "cell_type": "code",
   "execution_count": 36,
   "metadata": {},
   "outputs": [
    {
     "data": {
      "text/plain": [
       "[<matplotlib.lines.Line2D at 0x1e1c95ba060>]"
      ]
     },
     "execution_count": 36,
     "metadata": {},
     "output_type": "execute_result"
    },
    {
     "data": {
      "image/png": "[encoded data removed]",
      "text/plain": [
       "<Figure size 640x480 with 1 Axes>"
      ]
     },
     "metadata": {},
     "output_type": "display_data"
    }
   ],
   "source": [
    "from sklearn.decomposition import PCA\n",
    "import numpy as np\n",
    "pca_test = PCA(n_components=5)\n",
    "pca_test.fit(train_X_sc)\n",
    "plt.plot(np.cumsum(pca_test.explained_variance_ratio_))"
   ]
  },
  {
   "cell_type": "markdown",
   "metadata": {},
   "source": [
    ">90% дисперсии объясняют 5 признаков, соответсвенно, остальные исключу"
   ]
  },
  {
   "cell_type": "code",
   "execution_count": 43,
   "metadata": {},
   "outputs": [],
   "source": [
    "train_X_pca = pca_test.transform(train_X_sc)\n",
    "val_X_pca = pca_test.transform(val_X_sc)"
   ]
  },
  {
   "cell_type": "code",
   "execution_count": 45,
   "metadata": {},
   "outputs": [],
   "source": [
    "rf_model_3 = RandomForestClassifier()\n",
    "rf_model_3.fit(train_X_pca, train_y)\n",
    "predict_3 = rf_model_3.predict(val_X_pca)"
   ]
  },
  {
   "cell_type": "code",
   "execution_count": 47,
   "metadata": {},
   "outputs": [
    {
     "data": {
      "text/plain": [
       "<Axes: >"
      ]
     },
     "execution_count": 47,
     "metadata": {},
     "output_type": "execute_result"
    },
    {
     "data": {
      "image/png": "[encoded data removed]",
      "text/plain": [
       "<Figure size 640x480 with 2 Axes>"
      ]
     },
     "metadata": {},
     "output_type": "display_data"
    }
   ],
   "source": [
    "sns.heatmap(confusion_matrix(val_y, predict_3), annot=True)"
   ]
  },
  {
   "cell_type": "code",
   "execution_count": null,
   "metadata": {},
   "outputs": [],
   "source": []
  }
 ],
 "metadata": {
  "kernelspec": {
   "display_name": "Python 3",
   "language": "python",
   "name": "python3"
  },
  "language_info": {
   "codemirror_mode": {
    "name": "ipython",
    "version": 3
   },
   "file_extension": ".py",
   "mimetype": "text/x-python",
   "name": "python",
   "nbconvert_exporter": "python",
   "pygments_lexer": "ipython3",
   "version": "3.12.4"
  }
 },
 "nbformat": 4,
 "nbformat_minor": 2
}
