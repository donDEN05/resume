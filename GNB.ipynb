{
 "cells": [
  {
   "cell_type": "code",
   "execution_count": 59,
   "metadata": {},
   "outputs": [],
   "source": [
    "import numpy as np"
   ]
  },
  {
   "cell_type": "code",
   "execution_count": 60,
   "metadata": {},
   "outputs": [],
   "source": [
    "class GaussianNB:\n",
    "    def __init__(self):\n",
    "        self.e_1 = {}\n",
    "        self.e_0 = {}\n",
    "        self.var_1 = {}\n",
    "        self.var_0 = {}\n",
    "        self.n = 1\n",
    "        self.m = 1\n",
    "        self.positive = 1\n",
    "        self.negative = 0\n",
    "        self.alpha = 1e-9\n",
    "    \n",
    "    def fit(self, X, y):\n",
    "        self.m, self.n = X.shape\n",
    "        self.positive = y.sum()\n",
    "        self.negative = self.m - self.positive\n",
    "        for i in range(self.n):\n",
    "            self.e_0[i] = 0\n",
    "            self.e_1[i] = 0\n",
    "            for m in range(self.m):\n",
    "                if y[m] == 1:\n",
    "                    self.e_1[i] += X[m][i]\n",
    "                else:\n",
    "                    self.e_0[i] += X[m][i]\n",
    "            self.e_0[i] /= self.negative\n",
    "            self.e_1[i] /= self.positive\n",
    "            self.var_0[i] = 0\n",
    "            self.var_1[i] = 0\n",
    "            for m in range(self.m):\n",
    "                if y[m] == 1:\n",
    "                    self.var_1[i] += (self.e_1[i] - X[m][i]) ** 2\n",
    "                else:\n",
    "                    self.var_0[i] += (self.e_0[i] - X[m][i]) ** 2\n",
    "            self.var_0[i] /= self.negative\n",
    "            self.var_1[i] /= self.positive\n",
    "    \n",
    "    def predict(self, X):\n",
    "        predict = []\n",
    "        for m in range(X.shape[0]):\n",
    "            if (self.positive / self.m) * self.chance(X[m], self.var_1, self.e_1) >=\\\n",
    "             (self.negative / self.m) * self.chance(X[m], self.var_0, self.e_0):\n",
    "                predict.append(1)\n",
    "            else:\n",
    "                predict.append(0)\n",
    "        return np.array(predict)\n",
    "    \n",
    "    def chance(self, X, var, e):\n",
    "        ch = 1\n",
    "        for i in range(self.n):\n",
    "            ch *= (1 / (np.sqrt(2 * np.pi * (var[i] + self.alpha)))) * np.exp(-1 * ((X[i] - e[i]) ** 2) / (2 * var[i] + self.alpha))\n",
    "        return ch"
   ]
  },
  {
   "cell_type": "code",
   "execution_count": 61,
   "metadata": {},
   "outputs": [
    {
     "name": "stdout",
     "output_type": "stream",
     "text": [
      "[1 1]\n"
     ]
    }
   ],
   "source": [
    "# Пример данных\n",
    "X = np.array([\n",
    "    [1.0, 2.0],\n",
    "    [2.0, 3.0],\n",
    "    [3.0, 4.0],\n",
    "    [4.0, 5.0]\n",
    "])\n",
    "y = np.array([1, 0, 1, 1])\n",
    "\n",
    "# Обучение модели\n",
    "model = GaussianNB()\n",
    "model.fit(X, y)\n",
    "\n",
    "# Предсказание\n",
    "X_test = np.array([\n",
    "    [1, 1],\n",
    "    [3.5, 4.5]\n",
    "])\n",
    "predictions = model.predict(X_test)\n",
    "print(predictions)"
   ]
  }
 ],
 "metadata": {
  "kernelspec": {
   "display_name": "Python 3",
   "language": "python",
   "name": "python3"
  },
  "language_info": {
   "codemirror_mode": {
    "name": "ipython",
    "version": 3
   },
   "file_extension": ".py",
   "mimetype": "text/x-python",
   "name": "python",
   "nbconvert_exporter": "python",
   "pygments_lexer": "ipython3",
   "version": "3.12.4"
  }
 },
 "nbformat": 4,
 "nbformat_minor": 2
}
