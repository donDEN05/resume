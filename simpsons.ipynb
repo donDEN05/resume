{
 "cells": [
  {
   "cell_type": "code",
   "execution_count": 69,
   "id": "1e51d34e",
   "metadata": {},
   "outputs": [],
   "source": [
    "from PIL import Image\n",
    "import numpy as np\n",
    "import matplotlib.pyplot as plt\n",
    "import torch\n",
    "import torch.nn as nn\n",
    "import torch.nn.functional as F\n",
    "import torchvision.transforms as transforms\n",
    "from torch.utils.data import DataLoader\n",
    "import pandas as pd\n",
    "from sklearn.model_selection import train_test_split "
   ]
  },
  {
   "cell_type": "code",
   "execution_count": 70,
   "id": "b967ccfb",
   "metadata": {},
   "outputs": [],
   "source": [
    "data_train, data_test = train_test_split(pd.read_csv('annotation.txt'), \n",
    "                        test_size=0.1, \n",
    "                        random_state=102)\n",
    "device = torch.device('cuda')\n",
    "target_size = (224, 224)"
   ]
  },
  {
   "cell_type": "code",
   "execution_count": 71,
   "id": "147d3f39",
   "metadata": {},
   "outputs": [],
   "source": [
    "from sklearn.preprocessing import LabelEncoder"
   ]
  },
  {
   "cell_type": "code",
   "execution_count": 72,
   "id": "5706d6b0",
   "metadata": {},
   "outputs": [],
   "source": [
    "enc = LabelEncoder()\n",
    "data_train['character'] = enc.fit_transform(data_train['character'])\n",
    "data_test['character'] = enc.transform(data_test['character'])"
   ]
  },
  {
   "cell_type": "code",
   "execution_count": 73,
   "id": "0f2b6034",
   "metadata": {},
   "outputs": [
    {
     "data": {
      "text/plain": [
       "18"
      ]
     },
     "execution_count": 73,
     "metadata": {},
     "output_type": "execute_result"
    }
   ],
   "source": [
    "data_train['character'].nunique()"
   ]
  },
  {
   "cell_type": "code",
   "execution_count": 74,
   "id": "27aeda3e",
   "metadata": {},
   "outputs": [],
   "source": [
    "transform = transforms.Compose([\n",
    "    transforms.Resize(target_size),\n",
    "    transforms.ToTensor(),\n",
    "    transforms.Normalize((0.5, 0.5, 0.5),(0.5, 0.5, 0.5))\n",
    "])"
   ]
  },
  {
   "cell_type": "code",
   "execution_count": 75,
   "id": "fbb0183b",
   "metadata": {},
   "outputs": [],
   "source": [
    "indexes = data_train.index"
   ]
  },
  {
   "cell_type": "code",
   "execution_count": 76,
   "id": "b9a8da2a",
   "metadata": {},
   "outputs": [],
   "source": [
    "import os"
   ]
  },
  {
   "cell_type": "code",
   "execution_count": 77,
   "id": "b185e5a8",
   "metadata": {},
   "outputs": [],
   "source": [
    "class CustomImage():\n",
    "    def __init__(self, data, transform):\n",
    "        self.transform = transform\n",
    "        self.data = data\n",
    "    \n",
    "    def __len__(self):\n",
    "        return len(self.data['character'])\n",
    "\n",
    "    def __getitem__(self, idx):\n",
    "        label_idx = self.data.iloc[idx, -1]\n",
    "        img_path = self.data.iloc[idx, 0]\n",
    "        img_path = img_path.replace(\"characters2\", \"characters\")\n",
    "        img_path = os.path.normpath(img_path)  # Нормализуем путь для ОС\n",
    "        image_idx = Image.open(img_path)\n",
    "        image_transformed = self.transform(image_idx)\n",
    "        return image_transformed, label_idx"
   ]
  },
  {
   "cell_type": "code",
   "execution_count": 78,
   "id": "7f4799be",
   "metadata": {},
   "outputs": [],
   "source": [
    "dataset = CustomImage(data_test, transform)"
   ]
  },
  {
   "cell_type": "code",
   "execution_count": 79,
   "id": "15b0356b",
   "metadata": {},
   "outputs": [],
   "source": [
    "batch_size = 32"
   ]
  },
  {
   "cell_type": "code",
   "execution_count": 80,
   "id": "2c809980",
   "metadata": {},
   "outputs": [],
   "source": [
    "dataset_train = CustomImage(data_train, transform)\n",
    "load_train = DataLoader(dataset_train, \n",
    "                        batch_size=batch_size, \n",
    "                        shuffle=False)\n",
    "dataset_test = CustomImage(data_test, transform)\n",
    "load_test = DataLoader(dataset_test, \n",
    "                       batch_size=4, \n",
    "                       shuffle=False)"
   ]
  },
  {
   "cell_type": "code",
   "execution_count": 81,
   "id": "4931c713",
   "metadata": {},
   "outputs": [
    {
     "name": "stdout",
     "output_type": "stream",
     "text": [
      "Размер батча изображений: torch.Size([32, 3, 224, 224])\n",
      "Метки: tensor([14,  1,  0,  0, 10,  0, 10,  0, 17, 16, 11, 14,  9,  7,  3,  7,  4,  3,\n",
      "        12,  0, 17, 12,  2,  3,  3,  2,  3, 10, 10,  1, 10, 11])\n"
     ]
    }
   ],
   "source": [
    "for images, labels in load_train:\n",
    "    print(\"Размер батча изображений:\", images.shape)\n",
    "    print(\"Метки:\", labels)\n",
    "    break"
   ]
  },
  {
   "cell_type": "code",
   "execution_count": 82,
   "id": "79c36fab",
   "metadata": {},
   "outputs": [],
   "source": [
    "class CNN(nn.Module):\n",
    "    def __init__(self):\n",
    "        super().__init__()\n",
    "        self.conv1_1 = nn.Conv2d(3, 64, 3)\n",
    "        self.conv1_2 = nn.Conv2d(64, 64, 3)\n",
    "        self.maxpool = nn.MaxPool2d(2, 2)\n",
    "        self.conv2_1 = nn.Conv2d(64, 128, 3)\n",
    "        self.conv2_2 = nn.Conv2d(128, 128, 3)\n",
    "        self.conv3_1 = nn.Conv2d(128, 256, 3)\n",
    "        self.conv3_2 = nn.Conv2d(256, 256, 3)\n",
    "        self.conv3_3 = nn.Conv2d(256, 256, 3)\n",
    "        self.conv4_1 = nn.Conv2d(256, 512, 3)\n",
    "        self.conv4_2 = nn.Conv2d(512, 512, 3)\n",
    "        self.conv4_3 = nn.Conv2d(512, 512, 3)\n",
    "        self.fc1 = nn.Linear(512*64, 4096)\n",
    "        self.fc2 = nn.Linear(4096, 4096)\n",
    "        self.fc3 = nn.Linear(4096, 18)\n",
    "        self.drop = nn.Dropout(0.5)\n",
    "    \n",
    "    def forward(self, answer):\n",
    "        answer = F.relu(self.conv1_1(answer))\n",
    "        answer = F.relu(self.conv1_2(answer))\n",
    "        answer = self.maxpool(answer)\n",
    "        answer = F.relu(self.conv2_1(answer))\n",
    "        answer = F.relu(self.conv2_2(answer))\n",
    "        answer = self.maxpool(answer)\n",
    "        answer = F.relu(self.conv3_1(answer))\n",
    "        answer = F.relu(self.conv3_2(answer))\n",
    "        answer = F.relu(self.conv3_3(answer))\n",
    "        answer = self.maxpool(answer)\n",
    "        answer = F.relu(self.conv4_1(answer))\n",
    "        answer = F.relu(self.conv4_2(answer))\n",
    "        answer = F.relu(self.conv4_3(answer))\n",
    "        answer = self.maxpool(answer)\n",
    "        answer = answer.view(-1, 512 * 64)\n",
    "        answer = self.drop(answer)\n",
    "        answer = F.relu(self.fc1(answer))\n",
    "        answer = F.relu(self.fc2(answer))\n",
    "        answer = F.softmax(self.fc3(answer))\n",
    "        return answer"
   ]
  },
  {
   "cell_type": "code",
   "execution_count": 83,
   "id": "1b8c2920",
   "metadata": {},
   "outputs": [],
   "source": [
    "model = CNN().to(device)\n",
    "criterion = nn.CrossEntropyLoss()\n",
    "optimizer = torch.optim.AdamW(model.parameters(), lr=0.001, weight_decay=0.001)"
   ]
  },
  {
   "cell_type": "code",
   "execution_count": 84,
   "id": "f81c952a",
   "metadata": {},
   "outputs": [
    {
     "name": "stderr",
     "output_type": "stream",
     "text": [
      "C:\\Users\\foksm\\AppData\\Local\\Temp\\ipykernel_2280\\3007250331.py:39: UserWarning: Implicit dimension choice for softmax has been deprecated. Change the call to include dim=X as an argument.\n",
      "  answer = F.softmax(self.fc3(answer))\n"
     ]
    },
    {
     "name": "stdout",
     "output_type": "stream",
     "text": [
      "0 tensor(2.8387, device='cuda:0', grad_fn=<NllLossBackward0>)\n",
      "1 tensor(2.8387, device='cuda:0', grad_fn=<NllLossBackward0>)\n",
      "2 tensor(2.8387, device='cuda:0', grad_fn=<NllLossBackward0>)\n",
      "3 tensor(2.8387, device='cuda:0', grad_fn=<NllLossBackward0>)\n",
      "4 tensor(2.8387, device='cuda:0', grad_fn=<NllLossBackward0>)\n",
      "5 tensor(2.8387, device='cuda:0', grad_fn=<NllLossBackward0>)\n",
      "6 tensor(2.8387, device='cuda:0', grad_fn=<NllLossBackward0>)\n",
      "7 tensor(2.8387, device='cuda:0', grad_fn=<NllLossBackward0>)\n",
      "8 tensor(2.8387, device='cuda:0', grad_fn=<NllLossBackward0>)\n",
      "9 tensor(2.8387, device='cuda:0', grad_fn=<NllLossBackward0>)\n"
     ]
    }
   ],
   "source": [
    "for epochs in range(10):\n",
    "        for images, labels in load_train:\n",
    "            images_cuda = images.to(device)\n",
    "            labels_cuda = labels.to(device)\n",
    "            optimizer.zero_grad()\n",
    "            predict = model(images_cuda)\n",
    "            loss = criterion(predict, labels_cuda)\n",
    "            loss.backward()\n",
    "            optimizer.step()\n",
    "        print(epochs, loss)"
   ]
  },
  {
   "cell_type": "code",
   "execution_count": 85,
   "id": "a95484a7",
   "metadata": {},
   "outputs": [
    {
     "name": "stderr",
     "output_type": "stream",
     "text": [
      "C:\\Users\\foksm\\AppData\\Local\\Temp\\ipykernel_2280\\3007250331.py:39: UserWarning: Implicit dimension choice for softmax has been deprecated. Change the call to include dim=X as an argument.\n",
      "  answer = F.softmax(self.fc3(answer))\n"
     ]
    },
    {
     "name": "stdout",
     "output_type": "stream",
     "text": [
      "Accuracy: 8.88%\n"
     ]
    }
   ],
   "source": [
    "correct = 0\n",
    "total = 0\n",
    "\n",
    "with torch.no_grad():  # Отключаем вычисление градиентов (экономия памяти)\n",
    "    for images, labels in load_test:\n",
    "        images, labels = images.to(device), labels.to(device)\n",
    "        outputs = model(images)\n",
    "        _, predicted = torch.max(outputs.data, 1)  # Индекс максимального значения\n",
    "        total += labels.size(0)\n",
    "        correct += (predicted == labels).sum().item()\n",
    "\n",
    "print(f\"Accuracy: {100 * correct / total:.2f}%\")"
   ]
  }
 ],
 "metadata": {
  "kernelspec": {
   "display_name": "ml_eng",
   "language": "python",
   "name": "python3"
  },
  "language_info": {
   "codemirror_mode": {
    "name": "ipython",
    "version": 3
   },
   "file_extension": ".py",
   "mimetype": "text/x-python",
   "name": "python",
   "nbconvert_exporter": "python",
   "pygments_lexer": "ipython3",
   "version": "3.12.4"
  }
 },
 "nbformat": 4,
 "nbformat_minor": 5
}
