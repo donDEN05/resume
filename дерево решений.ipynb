{
 "cells": [
  {
   "cell_type": "code",
   "execution_count": 62,
   "metadata": {},
   "outputs": [],
   "source": [
    "import pandas as pd\n",
    "import numpy as np"
   ]
  },
  {
   "cell_type": "code",
   "execution_count": 78,
   "metadata": {},
   "outputs": [],
   "source": [
    "class DecisionTree:\n",
    "    def __init__(self, max_depth=5):\n",
    "        self.max_depth = max_depth\n",
    "        self.X = None\n",
    "        self.y = None\n",
    "        self.n = 2\n",
    "        self.m = 1\n",
    "        self.steps = []\n",
    "    \n",
    "    def fit(self, X, y):\n",
    "        if self.max_depth != 0:\n",
    "            self.m = X.shape[0]\n",
    "            min_entropy = ['i', 'value', float('inf'), None, None]\n",
    "            entropy_now = self.get_entropy(y)\n",
    "            if entropy_now <= 0.1:\n",
    "                self.steps = y.mode()[0]\n",
    "                return self\n",
    "            for i in range(self.n):\n",
    "                column = X.columns[i]\n",
    "                for m in range(self.m):\n",
    "                    value = X.iloc[m].iloc[i]\n",
    "                    indices_0 = X[X[column] < value].index\n",
    "                    indices_1 = X[X[column] >= value].index\n",
    "                    entropy_mean = (self.get_entropy(y.iloc[indices_0]) + self.get_entropy(y.iloc[indices_1])) * 0.5\n",
    "                    if entropy_mean < entropy_now and entropy_mean < min_entropy[2]:\n",
    "                        min_entropy[0], min_entropy[1], min_entropy[2] = i, value, entropy_mean\n",
    "                        min_entropy[3], min_entropy[4] = indices_0, indices_1\n",
    "            self.steps = [min_entropy, \n",
    "                    DecisionTree(max_depth=(self.max_depth - 1)).fit(X.iloc[min_entropy[3]], y.iloc[min_entropy[3]]), \n",
    "                    DecisionTree(max_depth=(self.max_depth - 1)).fit(X.iloc[min_entropy[4]], y.iloc[min_entropy[4]])]\n",
    "        else:\n",
    "            self.steps = y.mode()[0]\n",
    "        return self\n",
    "\n",
    "    def predict(self, X):\n",
    "        predicted = []\n",
    "        for m in range(X.shape[0]):\n",
    "            step = self.steps\n",
    "            while isinstance(step, list):\n",
    "                feature_index, threshold, _, _, _ = step[0]\n",
    "                if X.iloc[m].iloc[feature_index] < threshold:\n",
    "                    step = step[1]\n",
    "                else:\n",
    "                    step = step[2]\n",
    "            predicted.append(step)\n",
    "        return pd.Series(predicted)\n",
    "\n",
    "    def get_entropy(self, y):\n",
    "        if isinstance(y, (int, float)):\n",
    "            return 0\n",
    "        n = y.shape[0]\n",
    "        if n == 0:\n",
    "            return 0\n",
    "        p_1 = sum(y) / n\n",
    "        p_0 = 1 - p_1\n",
    "        if p_1 == 0 or p_0 == 0:\n",
    "            return 0\n",
    "        return -1 * p_1 * np.log2(p_1) - p_0 * np.log2(p_0)"
   ]
  },
  {
   "cell_type": "code",
   "execution_count": 79,
   "metadata": {},
   "outputs": [
    {
     "name": "stdout",
     "output_type": "stream",
     "text": [
      "0    <__main__.DecisionTree object at 0x000001E137E...\n",
      "1    <__main__.DecisionTree object at 0x000001E137E...\n",
      "2    <__main__.DecisionTree object at 0x000001E137E...\n",
      "3    <__main__.DecisionTree object at 0x000001E137E...\n",
      "4    <__main__.DecisionTree object at 0x000001E137C...\n",
      "5    <__main__.DecisionTree object at 0x000001E137C...\n",
      "6    <__main__.DecisionTree object at 0x000001E137C...\n",
      "7    <__main__.DecisionTree object at 0x000001E137C...\n",
      "8    <__main__.DecisionTree object at 0x000001E137C...\n",
      "9    <__main__.DecisionTree object at 0x000001E137C...\n",
      "dtype: object\n"
     ]
    }
   ],
   "source": [
    "# Создаем данные\n",
    "data = {'feature_1': [1, 2, 3, 4, 5, 6, 7, 8, 9, 10],\n",
    "        'feature_2': [10, 9, 8, 7, 6, 5, 4, 3, 2, 1],\n",
    "        'target': [0, 0, 0, 0, 1, 1, 1, 1, 1, 1]}\n",
    "df = pd.DataFrame(data)\n",
    "\n",
    "# Разделяем на признаки и целевую переменную\n",
    "X = df[['feature_1', 'feature_2']]\n",
    "y = df['target']\n",
    "\n",
    "# Создаем и обучаем дерево\n",
    "tree = DecisionTree(max_depth=3)\n",
    "tree.fit(X, y)\n",
    "\n",
    "# Делаем предсказания\n",
    "predictions = tree.predict(X)\n",
    "print(predictions)"
   ]
  }
 ],
 "metadata": {
  "kernelspec": {
   "display_name": "Python 3",
   "language": "python",
   "name": "python3"
  },
  "language_info": {
   "codemirror_mode": {
    "name": "ipython",
    "version": 3
   },
   "file_extension": ".py",
   "mimetype": "text/x-python",
   "name": "python",
   "nbconvert_exporter": "python",
   "pygments_lexer": "ipython3",
   "version": "3.12.4"
  }
 },
 "nbformat": 4,
 "nbformat_minor": 2
}
